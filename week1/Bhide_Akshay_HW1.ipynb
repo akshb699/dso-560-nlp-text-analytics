{
 "cells": [
  {
   "cell_type": "markdown",
   "id": "sacred-fantasy",
   "metadata": {},
   "source": [
    "# Akshay Bhide - Homework 1 (Due Tuesday, March 22, 2022 at 6:29pm PST)\n",
    "\n",
    "**Rubric**\n",
    "* Identified 4 major themes from the reviews (2pts)\n",
    "* Regex that groups / cleans the reviews is correctly implemented (4pts)\n",
    "* Word count is correctly implemented (2pts)\n",
    "* Analysis of recommendations and pitfalls/limitations are specific enough to be actionable (2pts)\n",
    "\n",
    "Not actionable recommendation:\n",
    "* *The store managers should consider trying to improve the drive through experience to be more pleasant for customers*\n",
    "\n",
    "Actionable:\n",
    "* *Drive throughs are mentioned 23% of the time in reviews, and often focus on how slow the service is. We recommend adopting parallel drive through stations for Atlanta and Chicago*\n",
    "\n",
    "You are a business analyst working for McDonalds. First, read through the reviews in `mcdonalds-yelp-negative-reviews.csv` (found in `datasets` folder). \n",
    "\n",
    "1. Identify 4 recurring themes/topics that reviewers are unhappy with. For example, one theme is that users are consistently unhappy with the drive-through experience.\n",
    "\n",
    "2. Next, using regex, group together all occurrences of these phrases. For example, `drive-thru`, `drive through`, `drivethrough` can all be replaced as `_DRIVE_THROUGH_`.\n",
    "\n",
    "3. Perform a word count, both overall, and broken out by city.\n",
    "\n",
    "4. **Provide a few sentences with your findings and business recommendations.** Make any assumptions you'd like. I just want you to get into the habit of \"finishing\" your analysis: to avoid delivering technical numbers to a non-technical manager.\n",
    "\n",
    "Some considerations in your analysis:\n",
    "\n",
    "* Explain what some of **pitfalls/limitations** are of using only a word count analysis to make these inferences. What additional research/steps would you need to do to verify your conclusions?\n",
    "\n",
    "**Submit everything as a new notebook and Slack direct message (group message) to me (Yu Chen) and the TAs (Mengqi Tan and Siyuan Ni) the HW as an attachment.**\n",
    "\n",
    "**NOTE**: Name the notebook `lastname_firstname_HW1.ipynb`.\n",
    "\n",
    "Every day late is -10%."
   ]
  },
  {
   "cell_type": "code",
   "execution_count": 1,
   "id": "damaged-printer",
   "metadata": {},
   "outputs": [],
   "source": [
    "#import libraries\n",
    "import pandas as pd\n",
    "import numpy as np\n",
    "import re"
   ]
  },
  {
   "cell_type": "code",
   "execution_count": 2,
   "id": "c7173b40",
   "metadata": {},
   "outputs": [],
   "source": [
    "#read in data\n",
    "data = pd.read_csv('../datasets/mcdonalds-yelp-negative-reviews.csv', encoding=\"latin1\")"
   ]
  },
  {
   "cell_type": "code",
   "execution_count": 3,
   "id": "defb62a1",
   "metadata": {},
   "outputs": [
    {
     "data": {
      "text/html": [
       "<div>\n",
       "<style scoped>\n",
       "    .dataframe tbody tr th:only-of-type {\n",
       "        vertical-align: middle;\n",
       "    }\n",
       "\n",
       "    .dataframe tbody tr th {\n",
       "        vertical-align: top;\n",
       "    }\n",
       "\n",
       "    .dataframe thead th {\n",
       "        text-align: right;\n",
       "    }\n",
       "</style>\n",
       "<table border=\"1\" class=\"dataframe\">\n",
       "  <thead>\n",
       "    <tr style=\"text-align: right;\">\n",
       "      <th></th>\n",
       "      <th>_unit_id</th>\n",
       "      <th>city</th>\n",
       "      <th>review</th>\n",
       "    </tr>\n",
       "  </thead>\n",
       "  <tbody>\n",
       "    <tr>\n",
       "      <th>0</th>\n",
       "      <td>679455653</td>\n",
       "      <td>Atlanta</td>\n",
       "      <td>I'm not a huge mcds lover, but I've been to be...</td>\n",
       "    </tr>\n",
       "    <tr>\n",
       "      <th>1</th>\n",
       "      <td>679455654</td>\n",
       "      <td>Atlanta</td>\n",
       "      <td>Terrible customer service. I came in at 9:30pm...</td>\n",
       "    </tr>\n",
       "    <tr>\n",
       "      <th>2</th>\n",
       "      <td>679455655</td>\n",
       "      <td>Atlanta</td>\n",
       "      <td>First they \"lost\" my order, actually they gave...</td>\n",
       "    </tr>\n",
       "    <tr>\n",
       "      <th>3</th>\n",
       "      <td>679455656</td>\n",
       "      <td>Atlanta</td>\n",
       "      <td>I see I'm not the only one giving 1 star. Only...</td>\n",
       "    </tr>\n",
       "    <tr>\n",
       "      <th>4</th>\n",
       "      <td>679455657</td>\n",
       "      <td>Atlanta</td>\n",
       "      <td>Well, it's McDonald's, so you know what the fo...</td>\n",
       "    </tr>\n",
       "  </tbody>\n",
       "</table>\n",
       "</div>"
      ],
      "text/plain": [
       "    _unit_id     city                                             review\n",
       "0  679455653  Atlanta  I'm not a huge mcds lover, but I've been to be...\n",
       "1  679455654  Atlanta  Terrible customer service. I came in at 9:30pm...\n",
       "2  679455655  Atlanta  First they \"lost\" my order, actually they gave...\n",
       "3  679455656  Atlanta  I see I'm not the only one giving 1 star. Only...\n",
       "4  679455657  Atlanta  Well, it's McDonald's, so you know what the fo..."
      ]
     },
     "execution_count": 3,
     "metadata": {},
     "output_type": "execute_result"
    }
   ],
   "source": [
    "#data head/shape\n",
    "data.head()"
   ]
  },
  {
   "cell_type": "code",
   "execution_count": 4,
   "id": "08d0db79",
   "metadata": {},
   "outputs": [
    {
     "data": {
      "text/plain": [
       "(1525, 3)"
      ]
     },
     "execution_count": 4,
     "metadata": {},
     "output_type": "execute_result"
    }
   ],
   "source": [
    "#1525 reviews\n",
    "data.shape"
   ]
  },
  {
   "cell_type": "code",
   "execution_count": 5,
   "id": "3addd290",
   "metadata": {},
   "outputs": [],
   "source": [
    "#isolate reivews column\n",
    "reviews = data['review']"
   ]
  },
  {
   "cell_type": "code",
   "execution_count": 6,
   "id": "2e5dde11",
   "metadata": {},
   "outputs": [
    {
     "name": "stdout",
     "output_type": "stream",
     "text": [
      "I swear the service with this mcdonalds is NO GOOD AT ALL!!! I don't like stopping at this McDonald's location cause I absolutely hate theirService but my girlfriend was hungry after work and she insisted weStop there so she can get a bite to eat so I went for it! BIG MISTAKE!! 1ST of all Once they speak it seems like they have an attitude. they dont even greetYou with good customer service and huff and puff as if they are in a rush to take your Order. 2nd when I ordered the wings for my girlfriend they said \"its gonna be A 20 minute wait after you pay\" are they serious they cant start on my orderRight away once I place it??!! There was 3 cars in front of me so I have to waitEven longer??? So I said no thank you we will just order something else and thereWe hear another deep breathe as if im taking very long to place my order. Then after I placed my order we stood in line with 3 cars still in front of us so we waited patiently.After waiting 15mins and no car has moved and 2 cars behind us left the line we decided to go to the McDonald's on cicero and 28th where they have great customer service, everything on the menu available and we dont have to wait 20-40Minutes for our food...the McDonald's on 3200 w Roosevelt is the worse place anyone can go to for food.. Before I left today the cashier at the window looked my way and of course I stopped and told her the I was going to write a review on yelp and she laughed and said \"yeah okay boo do you\" unbelievable I dont understand how these people still have their job!!! Please tell me which McDonald's allows their employees to play loud music while at work? This place was very very ghetto and I seriously dont recommend for anyone to stop at this location!!! I rather starve then to eat any food from this place!!! I really hope they bring in new employees that have good customer service, speak proper english, know how to clean and dont dress up so ghetto!!!\n",
      "\n",
      "Approximately, only one register open with 20 drunk people in line. The \"pick up here\" takes about 15 mins to get your food. The slowest McDonalds I been to. The dinning area isn't as clean. One thing, the restaurant is very trendy and has free wifi. It's right next order to circus circus.. But, your stuck with a bunch of drunk people being very loud and annoying. Be prepare for it! Restroom was very dirty!!\n",
      "\n",
      "I've been to this drive through 3 times. I order simple things like a Big Mac meal or a couple burgers and fries. Yet some how they have never gotten my order correct. Today I ordered two hamburgers and fries. My hamburgers were damp and had pickled jalape±os instead of regular pickles. Not sure if this was a bad prank by the young staff or just a shitty burger that was made by someone who doesn't know the difference.Also their drive through is always packed and people line up into the adjacent albertsons parking lot and road. Come on fatties.... At that point park and walk in.\n",
      "\n"
     ]
    }
   ],
   "source": [
    "#sample reviews and run over and over to look for common themes\n",
    "samp = reviews.sample(3)\n",
    "for s in samp:\n",
    "    print(s, end='\\n\\n')"
   ]
  },
  {
   "cell_type": "markdown",
   "id": "2f626765",
   "metadata": {},
   "source": [
    "### Major Recurring Themes\n",
    "\n",
    "- slow service\n",
    "- wrong orders\n",
    "- homelessness issue\n",
    "- bad customer service"
   ]
  },
  {
   "cell_type": "code",
   "execution_count": 7,
   "id": "48f4d955",
   "metadata": {},
   "outputs": [],
   "source": [
    "#use this function to find reviews with a certain word in it (to find words to substitute for each theme)\n",
    "def find_rev_with(word):\n",
    "    return [x for x in reviews if len(re.findall(word, x)) > 0]\n",
    "\n",
    "#commented because of long output\n",
    "# find_rev_with('rude')"
   ]
  },
  {
   "cell_type": "code",
   "execution_count": 8,
   "id": "caa99eec",
   "metadata": {},
   "outputs": [],
   "source": [
    "#substitute words for each theme\n",
    "revs_cleaned = []\n",
    "for review in reviews:\n",
    "    rev_copy = review\n",
    "    rev_copy = re.sub(r'\\b(order|messed up|incorrect|wrong|screw(ed)?)\\b', '_WRONG_ORDER_', rev_copy, flags=re.IGNORECASE)\n",
    "    rev_copy = re.sub(r'\\b(slow|wait(ed|ing)?)\\b', '_SLOW_SERVICE_', rev_copy, flags=re.IGNORECASE)\n",
    "    rev_copy = re.sub(r'\\b(homeless|hobo(s)?|transient(s)?)\\b', '_HOMELESSNESS_', rev_copy, flags=re.IGNORECASE)\n",
    "    rev_copy = re.sub(r'\\b(attitude|rude|disrespectful|curs(e|ing)?|incompetent|unfriendly)\\b', '_CUST_SERVICE_', rev_copy, flags=re.IGNORECASE)\n",
    "    \n",
    "    revs_cleaned.append(rev_copy)"
   ]
  },
  {
   "cell_type": "code",
   "execution_count": 9,
   "id": "a560a6cb",
   "metadata": {},
   "outputs": [],
   "source": [
    "#check to make sure subs worked\n",
    "\n",
    "#commented because of long output\n",
    "# [x for x in revs_cleaned if len(re.findall('_HOMELESSNESS_', x)) > 0]"
   ]
  },
  {
   "cell_type": "code",
   "execution_count": 10,
   "id": "eb7c750a",
   "metadata": {},
   "outputs": [
    {
     "name": "stdout",
     "output_type": "stream",
     "text": [
      "Overall word count of themes: (1525 reviews)\n",
      "Wrong Order:  566 (0.37)\n",
      "Slow Service:  379 (0.25)\n",
      "Homelessness Issue:  61 (0.04)\n",
      "Bad Customer Service:  176 (0.12)\n",
      "\n",
      "Overall word count for: ATLANTA (130 reviews)\n",
      "Wrong Order:  54 (0.42)\n",
      "Slow Service:  39 (0.3)\n",
      "Homelessness Issue:  2 (0.02)\n",
      "Bad Customer Service:  18 (0.14)\n",
      "\n",
      "Overall word count for: LAS VEGAS (409 reviews)\n",
      "Wrong Order:  166 (0.41)\n",
      "Slow Service:  100 (0.24)\n",
      "Homelessness Issue:  8 (0.02)\n",
      "Bad Customer Service:  44 (0.11)\n",
      "\n",
      "Overall word count for: DALLAS (75 reviews)\n",
      "Wrong Order:  33 (0.44)\n",
      "Slow Service:  14 (0.19)\n",
      "Homelessness Issue:  3 (0.04)\n",
      "Bad Customer Service:  8 (0.11)\n",
      "\n",
      "Overall word count for: PORTLAND (97 reviews)\n",
      "Wrong Order:  26 (0.27)\n",
      "Slow Service:  16 (0.16)\n",
      "Homelessness Issue:  4 (0.04)\n",
      "Bad Customer Service:  13 (0.13)\n",
      "\n",
      "Overall word count for: CHICAGO (219 reviews)\n",
      "Wrong Order:  79 (0.36)\n",
      "Slow Service:  49 (0.22)\n",
      "Homelessness Issue:  8 (0.04)\n",
      "Bad Customer Service:  19 (0.09)\n",
      "\n",
      "Overall word count for: CLEVELAND (71 reviews)\n",
      "Wrong Order:  25 (0.35)\n",
      "Slow Service:  27 (0.38)\n",
      "Homelessness Issue:  2 (0.03)\n",
      "Bad Customer Service:  13 (0.18)\n",
      "\n",
      "Overall word count for: HOUSTON (105 reviews)\n",
      "Wrong Order:  41 (0.39)\n",
      "Slow Service:  26 (0.25)\n",
      "Homelessness Issue:  3 (0.03)\n",
      "Bad Customer Service:  11 (0.1)\n",
      "\n",
      "Overall word count for: LOS ANGELES (167 reviews)\n",
      "Wrong Order:  65 (0.39)\n",
      "Slow Service:  46 (0.28)\n",
      "Homelessness Issue:  23 (0.14)\n",
      "Bad Customer Service:  18 (0.11)\n",
      "\n",
      "Overall word count for: NEW YORK (165 reviews)\n",
      "Wrong Order:  43 (0.26)\n",
      "Slow Service:  38 (0.23)\n",
      "Homelessness Issue:  7 (0.04)\n",
      "Bad Customer Service:  21 (0.13)\n",
      "\n",
      "Overall word count for: NO CITY GIVEN (87 reviews)\n",
      "Wrong Order:  34 (0.39)\n",
      "Slow Service:  24 (0.28)\n",
      "Homelessness Issue:  1 (0.01)\n",
      "Bad Customer Service:  11 (0.13)\n",
      "\n"
     ]
    }
   ],
   "source": [
    "#define function to find the number of reviews with each theme, do word count for all reviews and break down by city\n",
    "theme_keywords = {'_WRONG_ORDER_':'Wrong Order', '_SLOW_SERVICE_':'Slow Service', \n",
    "                  '_HOMELESSNESS_':'Homelessness Issue', '_CUST_SERVICE_':'Bad Customer Service'}\n",
    "def find_theme_counts(revs_cleaned):\n",
    "    theme_counts = {'_WRONG_ORDER_':0, '_SLOW_SERVICE_':0, '_HOMELESSNESS_':0, '_CUST_SERVICE_':0}\n",
    "\n",
    "    for k in theme_counts:\n",
    "        for r in revs_cleaned:\n",
    "            if k in r:\n",
    "                theme_counts[k] += 1\n",
    "                \n",
    "    return theme_counts\n",
    "\n",
    "overall_counts = find_theme_counts(revs_cleaned)\n",
    "print(f'Overall word count of themes: ({len(data)} reviews)')\n",
    "for k in theme_keywords:\n",
    "    print(f'{theme_keywords[k]}:  {overall_counts[k]} ({round(overall_counts[k]/len(data),2)})')\n",
    "    \n",
    "print()\n",
    "data['Reviews Cleaned'] = revs_cleaned\n",
    "data['city'] = data['city'].fillna('no city given')\n",
    "cities = data['city'].unique()\n",
    "\n",
    "for c in cities:\n",
    "    sub_df = data[data.city == c]\n",
    "    city_counts = find_theme_counts(sub_df['Reviews Cleaned'].values)\n",
    "    \n",
    "    print(f'Overall word count for: {c.upper()} ({len(sub_df)} reviews)')\n",
    "    for k in theme_keywords:\n",
    "        print(f'{theme_keywords[k]}:  {city_counts[k]} ({round(city_counts[k]/len(sub_df),2)})')\n",
    "    print()"
   ]
  },
  {
   "cell_type": "markdown",
   "id": "8d653f79",
   "metadata": {},
   "source": [
    "### Business Recommendations\n",
    "\n",
    "\n",
    "- **Wrong Orders:** More than a third (37%) of overall reviews mention wrong orders, often citing that these are repeat occurrences as well. Employee training should be bolstered to mitigate this outright and consequences should be put in place to incentivize employees to deliver accurate orders to customers.\n",
    "- **Slow Service:** Overall, slow service is mentioned in about a fourth of overall reviews, and 38% of reviews in the Cleveland restaurant. Across the board order completion practices and trainings should be reviewed to see if any improvements can be made. Moreover, hiring more employees or having more employees work at the same time, particularly in the Cleveland restaurant, can help decrease service time.\n",
    "- **Homelessness Issue:** Homelessness/transients disturbing customers was mentioned in only 4% of reviews, but still seems to be a major problem when mentioned in reviews. Furthermore, 14% of reviews in Los Angeles mention homelessness. Specifically for that location, I recommend working with local law enforcement agencies to find ways for customers to feel safe and comfortable entering and eating inside a McDonald's restaurant.\n",
    "- **Bad Customer Service:** 12% of reviews mention employees having poor attitudes, being rude or disrespectful, or cursing in front of employees. Although these incidents are mentioned in less reviews than wrong orders or slow service, it's an incredibly important matter to deal with, and this kind of behavior should not be tolerated in any restaurant. All restaurants should perform a thorough review of each employee and assess whether or not their attitude towards customers is fitting of an ideal McDonald's employee."
   ]
  },
  {
   "cell_type": "markdown",
   "id": "1effdc61",
   "metadata": {},
   "source": [
    "### Pitfalls of using just a word count analysis\n",
    "\n",
    "The biggest pitfall of using a word count analysis to make these kinds of inferences is the context around the certain words that are being matched. Since words are matched individually, word count's don't reflect the context from which the word occurs in a sentence or document. For example, in this analysis, when analyzing the occurrence of the word \"rude,\" this analysis would identify a review with \"rude\" in it and possibly classify it as a review where an employee was rude to a customer. However, the review might have been that the employee \"was very kind and not rude at all,\" in which case classifying this review as one where an employee was rude to a customer would be the incorrect. Another pitfall is that word count analysis doesn't capture tenses very well. For example, in the context of slow orders, \"wait\", \"waited\", and \"waiting\" would all show up in the word count as separate entries when in this case it would have been more informative if they were grouped together.\n",
    "\n",
    "\n",
    "One additional step that can be taken to verify my conclusions could be using sentiment analysis to classify a review as positive or negative before doing a word count analysis (a positive review with \"rude\" in it might actually have \"not rude\" or \"wasn't rude\" instead). Another step can be to try and find the context around certain words in reviews. For example, we can run a secondary word count on all reviews with the word \"rude\" in them, or try and find the most common words before/after/around the word \"rude\". Along with possibly uncovering context, doing a secondary word count analysis like this could also reveal which words are used most commonly together, which could provide additional insight and can further support/reject conclusions."
   ]
  },
  {
   "cell_type": "code",
   "execution_count": null,
   "id": "8b523a8a",
   "metadata": {},
   "outputs": [],
   "source": []
  }
 ],
 "metadata": {
  "kernelspec": {
   "display_name": "Python 3",
   "language": "python",
   "name": "python3"
  },
  "language_info": {
   "codemirror_mode": {
    "name": "ipython",
    "version": 3
   },
   "file_extension": ".py",
   "mimetype": "text/x-python",
   "name": "python",
   "nbconvert_exporter": "python",
   "pygments_lexer": "ipython3",
   "version": "3.7.4"
  },
  "toc": {
   "base_numbering": 1,
   "nav_menu": {},
   "number_sections": true,
   "sideBar": true,
   "skip_h1_title": false,
   "title_cell": "Table of Contents",
   "title_sidebar": "Contents",
   "toc_cell": false,
   "toc_position": {},
   "toc_section_display": true,
   "toc_window_display": false
  }
 },
 "nbformat": 4,
 "nbformat_minor": 5
}
